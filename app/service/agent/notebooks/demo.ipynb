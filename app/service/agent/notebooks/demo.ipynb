{
 "cells": [
  {
   "cell_type": "markdown",
   "metadata": {},
   "source": [
    "# 模型"
   ]
  },
  {
   "cell_type": "code",
   "execution_count": 2,
   "metadata": {},
   "outputs": [
    {
     "name": "stdout",
     "output_type": "stream",
     "text": [
      "content=\"Hello! I'm an AI language model created by OpenAI, designed to help answer questions and provide information on a wide range of topics. How can I assist you today?\" response_metadata={'token_usage': {'completion_tokens': 34, 'prompt_tokens': 13, 'total_tokens': 47}, 'model_name': 'gpt-4o-2024-05-13', 'system_fingerprint': None, 'finish_reason': 'stop', 'logprobs': None} id='run-6c38f160-771c-4503-805b-e4d13b1a466d-0' usage_metadata={'input_tokens': 13, 'output_tokens': 34, 'total_tokens': 47}\n"
     ]
    }
   ],
   "source": [
    "from langchain_openai import ChatOpenAI\n",
    "\n",
    "llm = ChatOpenAI(\n",
    "    openai_api_base=\"https://api.lingyiwanwu.com/v1\", \n",
    "    openai_api_key=\"multimodel-peter\", \n",
    "    model=\"gpt-4o\"\n",
    "    )\n",
    "\n",
    "print(llm.invoke(\"hi, who are you?\"))\n"
   ]
  },
  {
   "cell_type": "code",
   "execution_count": 3,
   "metadata": {},
   "outputs": [],
   "source": [
    "model = llm"
   ]
  },
  {
   "cell_type": "code",
   "execution_count": 4,
   "metadata": {},
   "outputs": [
    {
     "name": "stdout",
     "output_type": "stream",
     "text": [
      "图片中的天气看起来晴朗，天空可能是蓝色的，阳光充足。海水呈现出明亮的蓝色和绿色，海浪拍打着沙滩，海滩上没有明显的阴影，显示出阳光直接照射。整体感觉是一个适合户外活动的好天气。\n"
     ]
    }
   ],
   "source": [
    "from langchain_core.messages import HumanMessage\n",
    "import base64\n",
    "\n",
    "import httpx\n",
    "\n",
    "# image_url = \"https://upload.wikimedia.org/wikipedia/commons/thumb/d/dd/Gfp-wisconsin-madison-the-nature-boardwalk.jpg/2560px-Gfp-wisconsin-madison-the-nature-boardwalk.jpg\"\n",
    "\n",
    "image_url = \"https://test-content-public.tos-cn-shanghai.volces.com/agent/others/%E5%B7%B4%E5%8E%98%E5%B2%9B3.jpeg\"\n",
    "\n",
    "image_data = base64.b64encode(httpx.get(image_url).content).decode(\"utf-8\")\n",
    "\n",
    "message = HumanMessage(\n",
    "    content=[\n",
    "        {\"type\": \"text\", \"text\": \"描述图片中的天气\"},\n",
    "        {\n",
    "            \"type\": \"image_url\",\n",
    "            \"image_url\": {\"url\": f\"data:image/jpeg;base64,{image_data}\"},\n",
    "        },\n",
    "    ],\n",
    ")\n",
    "response = model.invoke([message])\n",
    "print(response.content)\n",
    "\n"
   ]
  },
  {
   "cell_type": "code",
   "execution_count": 41,
   "metadata": {},
   "outputs": [
    {
     "name": "stdout",
     "output_type": "stream",
     "text": [
      "首先我们计算分子的值：\n",
      "\n",
      "\\[ \n",
      "10 + 543^7 + 647 + 89854 + 12 \n",
      "\\]\n",
      "\n",
      "其中，\\[\n",
      "543^7\n",
      "\\] 是一个非常大的数。让我们逐步计算：\n",
      "\n",
      "\\[\n",
      "543^7 = 543 \\times 543 \\times 543 \\times 543 \\times 543 \\times 543 \\times 543\n",
      "\\]\n",
      "\n",
      "通过计算我们得出：\n",
      "\n",
      "\\[\n",
      "543^7 = 135,351,079,478,643,200,000\n",
      "\\]\n",
      "\n",
      "加上其他数值：\n",
      "\n",
      "\\[\n",
      "10 + 135,351,079,478,643,200,000 + 647 + 89854 + 12 \\approx 135,351,079,478,643,299,523\n",
      "\\]\n",
      "\n",
      "然后我们计算分母的值：\n",
      "\n",
      "\\[ \n",
      "8908 \\times 0.495653324 \\times 9 \\times 143 \\times 12 \n",
      "\\]\n",
      "\n",
      "逐步计算：\n",
      "\n",
      "\\[\n",
      "8908 \\times 0.495653324 \\approx 4415.5441\n",
      "\\]\n",
      "\\[\n",
      "4415.5441 \\times 9 \\approx 39739.8969\n",
      "\\]\n",
      "\\[\n",
      "39739.8969 \\times 143 \\approx 5682764.5667\n",
      "\\]\n",
      "\\[\n",
      "5682764.5667 \\times 12 \\approx 68193174.8004\n",
      "\\]\n",
      "\n",
      "然后，我们将分子的值除以分母的值：\n",
      "\n",
      "\\[ \n",
      "\\frac{135,351,079,478,643,299,523}{68193174.8004} \\approx 1.9849 \\times 10^{21}\n",
      "\\]\n",
      "\n",
      "保留4位小数，最终答案是：\n",
      "\n",
      "\\[ \n",
      "1.9849 \\times 10^{21}\n",
      "\\]\n"
     ]
    }
   ],
   "source": [
    "message = HumanMessage(content=[\n",
    "        {\"type\": \"text\", \"text\": \"计算这个数学公式，保留4位小数。\"},\n",
    "        # {\"type\": \"text\", \"text\": \"计算这个数学公式，保留4位小数。请一步一步推理，有些步骤可以调用工具，从而确保最终答案正确。\"},\n",
    "        {\n",
    "            \"type\": \"image_url\",\n",
    "            \"image_url\": {\"url\": 'https://test-content-public.tos-cn-shanghai.volces.com/agent/others/complex_cal6.png'}\n",
    "        },\n",
    "    ])\n",
    "response = model.invoke([message])\n",
    "print(response.content)"
   ]
  },
  {
   "cell_type": "code",
   "execution_count": 5,
   "metadata": {},
   "outputs": [
    {
     "name": "stdout",
     "output_type": "stream",
     "text": [
      "图片中显示的是一个海滩景观，天气看起来非常晴朗。蓝天白云，海水清澈见底，呈现出不同深浅的蓝色。海浪轻轻拍打着沙滩，沙滩洁白细腻。周围的岩石和植被显示出一片郁郁葱葱的景象，整体给人一种宁静和美丽的感觉。这样的天气适合海边活动，阳光明媚，温暖宜人。\n"
     ]
    }
   ],
   "source": [
    "message = HumanMessage(\n",
    "    content=[\n",
    "        {\"type\": \"text\", \"text\": \"描述图片中的天气\"},\n",
    "        {\"type\": \"image_url\", \"image_url\": {\"url\": image_url}},\n",
    "    ],\n",
    ")\n",
    "response = model.invoke([message])\n",
    "print(response.content)"
   ]
  },
  {
   "cell_type": "code",
   "execution_count": 6,
   "metadata": {},
   "outputs": [
    {
     "name": "stdout",
     "output_type": "stream",
     "text": [
      "是的，这两张图是相同的。两张图显示的是同一个海滩和周边的景色，从角度、景物和颜色等各方面来看完全一致。\n"
     ]
    }
   ],
   "source": [
    "message = HumanMessage(\n",
    "    content=[\n",
    "        {\"type\": \"text\", \"text\": \"这两张图是一个吗？\"},\n",
    "        {\"type\": \"image_url\", \"image_url\": {\"url\": image_url}},\n",
    "        {\"type\": \"image_url\", \"image_url\": {\"url\": image_url}},\n",
    "    ],\n",
    ")\n",
    "response = model.invoke([message])\n",
    "print(response.content)"
   ]
  },
  {
   "cell_type": "markdown",
   "metadata": {},
   "source": [
    "# tools\n",
    "\n",
    "https://python.langchain.com/v0.2/docs/how_to/custom_tools/"
   ]
  },
  {
   "cell_type": "code",
   "execution_count": 7,
   "metadata": {},
   "outputs": [
    {
     "name": "stdout",
     "output_type": "stream",
     "text": [
      "[{'name': 'weather_tool', 'args': {'weather': 'sunny'}, 'id': 'call_Npkm9n9omcf9uexay8lDUF59', 'type': 'tool_call'}]\n"
     ]
    }
   ],
   "source": [
    "from typing import Literal\n",
    "\n",
    "from langchain_core.tools import tool\n",
    "\n",
    "\n",
    "@tool\n",
    "def weather_tool(weather: Literal[\"sunny\", \"cloudy\", \"rainy\"]) -> None:\n",
    "    \"\"\"Describe the weather\"\"\"\n",
    "    pass\n",
    "\n",
    "\n",
    "model_with_tools = model.bind_tools([weather_tool])\n",
    "\n",
    "message = HumanMessage(\n",
    "    content=[\n",
    "        {\"type\": \"text\", \"text\": \"描述图片中的天气\"},\n",
    "        {\"type\": \"image_url\", \"image_url\": {\"url\": image_url}},\n",
    "    ],\n",
    ")\n",
    "response = model_with_tools.invoke([message])\n",
    "print(response.tool_calls)"
   ]
  },
  {
   "cell_type": "markdown",
   "metadata": {},
   "source": [
    "## 创建同步tool"
   ]
  },
  {
   "cell_type": "code",
   "execution_count": 8,
   "metadata": {},
   "outputs": [
    {
     "name": "stdout",
     "output_type": "stream",
     "text": [
      "multiply\n",
      "Multiply two numbers.\n",
      "{'a': {'title': 'A', 'type': 'integer'}, 'b': {'title': 'B', 'type': 'integer'}}\n"
     ]
    }
   ],
   "source": [
    "@tool\n",
    "def multiply(a: int, b: int) -> int:\n",
    "    \"\"\"Multiply two numbers.\"\"\"\n",
    "    return a * b\n",
    "\n",
    "\n",
    "# Let's inspect some of the attributes associated with the tool.\n",
    "print(multiply.name)\n",
    "print(multiply.description)\n",
    "print(multiply.args)"
   ]
  },
  {
   "cell_type": "code",
   "execution_count": 9,
   "metadata": {},
   "outputs": [],
   "source": [
    "# import requests\n",
    "# import time\n",
    "# import os\n",
    "# import json\n",
    "\n",
    "# BASE_URI = 'https://api.bing.microsoft.com/v7.0/images/visualsearch'\n",
    "\n",
    "# SUBSCRIPTION_KEY = 'ab817fc05fb84426a4df844b62b86eae'\n",
    "\n",
    "\n",
    "# @tool\n",
    "# def bing_visual_search(imagePath: str):\n",
    "#     \"\"\"利用bing搜索接口搜索图片路径对应的图片\n",
    "#     \"\"\"\n",
    "#     resized_path= imagePath.split('.')[0]+f'_{int(time.time())}_resized.'+imagePath.split('.')[1]\n",
    "#     resized_path = '/ML-A100/team/mm/alban/data/Yi_api_raw/bing_results/' + resized_path.split('/')[-1]\n",
    "#     resize_image_to_under_1mb(imagePath, resized_path)\n",
    "#     HEADERS = {'Ocp-Apim-Subscription-Key': SUBSCRIPTION_KEY}\n",
    "#     file = {'image' : ('myfile', open(resized_path, 'rb'))}\n",
    "#     params  = {\"count\": 3}\n",
    "#     try:\n",
    "#         print('*****************bing visual searching***************')\n",
    "#         response = requests.post(BASE_URI, headers=HEADERS, files=file, params=params, timeout=8)\n",
    "#         response.raise_for_status()\n",
    "#         search_results = response.json()\n",
    "#         with open(resized_path.split('.')[0]+ \".json\", 'w', encoding='utf-8') as f:\n",
    "#             json.dump(search_results, f, ensure_ascii=False, indent=4)\n",
    "#             #os.remove(resized_path)\n",
    "#         related_prompts = extract_names(search_results)\n",
    "#         print('*****************searched_result****************', related_prompts )\n",
    "\n",
    "#         return related_prompts\n",
    "#     except Exception as ex:\n",
    "#         print(ex)\n",
    "#         #raise ex\n",
    "#         return ''\n",
    "\n",
    "\n",
    "# def resize_image_to_under_1mb(input_path, output_path, initial_quality=85, size_decrement=0.9):\n",
    "#     \"\"\"\n",
    "#     Resize an image so that its size is under 1MB by adjusting both quality and dimensions.\n",
    "\n",
    "#     :param input_path: Path to the input image.\n",
    "#     :param output_path: Path to save the resized image.\n",
    "#     :param initial_quality: Initial quality of the image. Default is 85.\n",
    "#     :param size_decrement: Factor by which to decrease the size. Default is 0.9 (i.e., 10% reduction each time).\n",
    "#     :return: None\n",
    "#     \"\"\"\n",
    "#     def save_image_with_quality(img, path, quality):\n",
    "#         img.save(path, quality=quality)\n",
    "#         return os.path.getsize(path)\n",
    "    \n",
    "#     with Image.open(input_path) as img:\n",
    "#         if img.mode == 'RGBA':\n",
    "#             img = img.convert('RGB')\n",
    "        \n",
    "#         # Initial save to check size\n",
    "#         file_size = save_image_with_quality(img, output_path, initial_quality)\n",
    "        \n",
    "#         # Adjust quality first using binary search\n",
    "#         low_quality, high_quality = 50, initial_quality\n",
    "#         while file_size > 1 * 1024 * 1024 and high_quality > low_quality:\n",
    "#             quality = (low_quality + high_quality) // 2\n",
    "#             file_size = save_image_with_quality(img, output_path, quality)\n",
    "#             if file_size > 1 * 1024 * 1024:\n",
    "#                 high_quality = quality - 1\n",
    "#             else:\n",
    "#                 low_quality = quality + 1\n",
    "        \n",
    "#         # If quality adjustment is not enough, start resizing\n",
    "#         while file_size > 1 * 1024 * 1024:\n",
    "#             new_size = (int(img.size[0] * size_decrement), int(img.size[1] * size_decrement))\n",
    "#             img = img.resize(new_size, Image.LANCZOS)\n",
    "#             file_size = save_image_with_quality(img, output_path, high_quality)\n",
    "            \n",
    "#             if new_size[0] * new_size[1] < 64:\n",
    "#                 raise ValueError(\"Cannot reduce image size to under 1MB without making it too small.\")\n",
    "        \n",
    "#         # print(f\"Final image size: {os.path.getsize(output_path)} bytes with quality: {high_quality} and dimensions: {img.size}\")\n",
    "\n",
    "\n",
    "# # 递归提取所有的 name 和 displayName 字段\n",
    "# def extract_names(data, names=None, display_names=None):\n",
    "#     if names is None:\n",
    "#         names = []\n",
    "#     if display_names is None:\n",
    "#         display_names = []\n",
    "\n",
    "#     if isinstance(data, dict):\n",
    "#         for key, value in data.items():\n",
    "#             if key == 'name' and value:\n",
    "#                 names.append(value)\n",
    "#             if key == 'displayName' and value:\n",
    "#                 display_names.append(value)\n",
    "#             extract_names(value, names, display_names)\n",
    "#     elif isinstance(data, list):\n",
    "#         for item in data:\n",
    "#             extract_names(item, names, display_names)\n",
    "#     # names_str = ', '.join(names[:10])\n",
    "#     # display_names_str = ', '.join(display_names)\n",
    "#     recall_str = '\\n'.join([f'\"{n}\"' for n in names[:10] + display_names]) + '\\n'\n",
    "#     # return names_str + display_names_str +'\\n'\n",
    "#     return recall_str\n"
   ]
  },
  {
   "cell_type": "code",
   "execution_count": 10,
   "metadata": {},
   "outputs": [],
   "source": [
    "import requests\n",
    "import io\n",
    "from PIL import Image\n",
    "import json\n",
    "import time\n",
    "\n",
    "BASE_URI = 'https://api.bing.microsoft.com/v7.0/images/visualsearch'\n",
    "SUBSCRIPTION_KEY = 'ab817fc05fb84426a4df844b62b86eae'\n",
    "\n",
    "@tool\n",
    "def bing_visual_search(imageUrl: str):\n",
    "    \"\"\"利用bing搜索接口搜索给定图片链接对应的图片\n",
    "    \"\"\"\n",
    "    HEADERS = {'Ocp-Apim-Subscription-Key': SUBSCRIPTION_KEY}\n",
    "    params  = {\"count\": 3}\n",
    "\n",
    "    try:\n",
    "        print('*****************bing visual searching***************')\n",
    "        # Download the image from the URL\n",
    "        image_response = requests.get(imageUrl)\n",
    "        image_response.raise_for_status()\n",
    "\n",
    "        # Load the image into memory\n",
    "        image_data = Image.open(io.BytesIO(image_response.content))\n",
    "\n",
    "        # Resize the image to make sure its size is under 1MB\n",
    "        resized_image = resize_image_to_under_1mb(image_data)\n",
    "\n",
    "        # Convert the resized image back to bytes\n",
    "        image_bytes = io.BytesIO()\n",
    "        resized_image.save(image_bytes, format='JPEG')\n",
    "        image_bytes.seek(0)\n",
    "\n",
    "        # Use the resized image content directly\n",
    "        file = {'image' : ('myfile', image_bytes)}\n",
    "\n",
    "        response = requests.post(BASE_URI, headers=HEADERS, files=file, params=params, timeout=8)\n",
    "        response.raise_for_status()\n",
    "        search_results = response.json()\n",
    "\n",
    "        # Save the search results to a JSON file\n",
    "        json_filename = f'image_search_results_{int(time.time())}.json'\n",
    "        with open(json_filename, 'w', encoding='utf-8') as f:\n",
    "            json.dump(search_results, f, ensure_ascii=False, indent=4)\n",
    "\n",
    "        related_prompts = extract_names(search_results)\n",
    "        print('*****************searched_result****************', related_prompts)\n",
    "\n",
    "        return related_prompts\n",
    "    except Exception as ex:\n",
    "        print(ex)\n",
    "        return ''\n",
    "\n",
    "def resize_image_to_under_1mb(image, initial_quality=85, size_decrement=0.9):\n",
    "    \"\"\"\n",
    "    Resize an image so that its size is under 1MB by adjusting both quality and dimensions.\n",
    "\n",
    "    :param image: PIL Image object.\n",
    "    :param initial_quality: Initial quality of the image. Default is 85.\n",
    "    :param size_decrement: Factor by which to decrease the size. Default is 0.9 (i.e., 10% reduction each time).\n",
    "    :return: Resized PIL Image object.\n",
    "    \"\"\"\n",
    "    def save_image_with_quality(img, quality):\n",
    "        img_bytes = io.BytesIO()\n",
    "        img.save(img_bytes, format='JPEG', quality=quality)\n",
    "        img_bytes.seek(0)\n",
    "        return img_bytes, len(img_bytes.getvalue())\n",
    "\n",
    "    if image.mode == 'RGBA':\n",
    "        image = image.convert('RGB')\n",
    "\n",
    "    # Initial save to check size\n",
    "    file_size = save_image_with_quality(image, initial_quality)[1]\n",
    "\n",
    "    # Adjust quality first using binary search\n",
    "    low_quality, high_quality = 50, initial_quality\n",
    "    while file_size > 1 * 1024 * 1024 and high_quality > low_quality:\n",
    "        quality = (low_quality + high_quality) // 2\n",
    "        _, file_size = save_image_with_quality(image, quality)\n",
    "        if file_size > 1 * 1024 * 1024:\n",
    "            high_quality = quality - 1\n",
    "        else:\n",
    "            low_quality = quality + 1\n",
    "\n",
    "    # If quality adjustment is not enough, start resizing\n",
    "    while file_size > 1 * 1024 * 1024:\n",
    "        new_size = (int(image.size[0] * size_decrement), int(image.size[1] * size_decrement))\n",
    "        image = image.resize(new_size, Image.LANCZOS)\n",
    "        _, file_size = save_image_with_quality(image, high_quality)\n",
    "\n",
    "        if new_size[0] * new_size[1] < 64:\n",
    "            raise ValueError(\"Cannot reduce image size to under 1MB without making it too small.\")\n",
    "\n",
    "    return image\n",
    "\n",
    "# 递归提取所有的 name 和 displayName 字段\n",
    "def extract_names(data, names=None, display_names=None):\n",
    "    if names is None:\n",
    "        names = []\n",
    "    if display_names is None:\n",
    "        display_names = []\n",
    "\n",
    "    if isinstance(data, dict):\n",
    "        for key, value in data.items():\n",
    "            if key == 'name' and value:\n",
    "                names.append(value)\n",
    "            if key == 'displayName' and value:\n",
    "                display_names.append(value)\n",
    "            extract_names(value, names, display_names)\n",
    "    elif isinstance(data, list):\n",
    "        for item in data:\n",
    "            extract_names(item, names, display_names)\n",
    "    # names_str = ', '.join(names[:10])\n",
    "    # display_names_str = ', '.join(display_names)\n",
    "    recall_str = '\\n'.join([f'\"{n}\"' for n in names[:10] + display_names]) + '\\n'\n",
    "    # return names_str + display_names_str +'\\n'\n",
    "    return recall_str"
   ]
  },
  {
   "cell_type": "code",
   "execution_count": 11,
   "metadata": {},
   "outputs": [
    {
     "name": "stderr",
     "output_type": "stream",
     "text": [
      "/opt/anaconda3/envs/agent/lib/python3.10/site-packages/langchain_core/_api/deprecation.py:139: LangChainDeprecationWarning: The method `BaseTool.__call__` was deprecated in langchain-core 0.1.47 and will be removed in 0.3.0. Use invoke instead.\n",
      "  warn_deprecated(\n"
     ]
    },
    {
     "name": "stdout",
     "output_type": "stream",
     "text": [
      "*****************bing visual searching***************\n",
      "*****************searched_result**************** \"巴厘岛-梦开始的地方.在异国他乡遇见你所有的美好.-巴厘岛旅游攻略-游记-去哪儿攻略\"\n",
      "\"【乌鲁瓦图情人崖旅游】乌鲁瓦图情人崖旅游攻略，乌鲁瓦图情人崖旅游景点大全-去哪儿网\"\n",
      "\"Perfect 3-day itinerary in Nusa Penida, Indonesia | Feast of Travel\"\n",
      "\"Indonesia ~ Martina Move\"\n",
      "\"7 Nights in Bali - Rewards4earth.org\"\n",
      "\"1-Day Guide to Nusa Penida Island, Indonesia - Let's Travel it Up\"\n",
      "\"Kelingkling beach from above | Etsy\"\n",
      "\"Bali Travel Guide & Tips | Condé Nast Traveler\"\n",
      "\"Bali Blue Dream Beach Background, Bali, Lembongan, Beach Background ...\"\n",
      "\"West & East Nusa Penida Tour\"\n",
      "\"Klumbu Indonesia\"\n",
      "\n"
     ]
    }
   ],
   "source": [
    "recall_str = bing_visual_search(image_url)"
   ]
  },
  {
   "cell_type": "code",
   "execution_count": 24,
   "metadata": {},
   "outputs": [],
   "source": [
    "# Define the tools for the agent to use\n",
    "@tool\n",
    "def search(query: str):\n",
    "    \"\"\"Call to surf the web.\"\"\"\n",
    "    # This is a placeholder, but don't tell the LLM that...\n",
    "    if \"sf\" in query.lower() or \"san francisco\" in query.lower():\n",
    "        return \"It's 60 degrees and foggy.\"\n",
    "    return \"It's 90 degrees and sunny.\""
   ]
  },
  {
   "cell_type": "markdown",
   "metadata": {},
   "source": [
    "## 创建异步tool"
   ]
  },
  {
   "cell_type": "code",
   "execution_count": 12,
   "metadata": {},
   "outputs": [],
   "source": [
    "@tool\n",
    "async def amultiply(a: int, b: int) -> int:\n",
    "    \"\"\"Multiply two numbers.\"\"\"\n",
    "    return a * b"
   ]
  },
  {
   "cell_type": "markdown",
   "metadata": {},
   "source": [
    "## 汇总tools"
   ]
  },
  {
   "cell_type": "code",
   "execution_count": 25,
   "metadata": {},
   "outputs": [],
   "source": [
    "tools = [bing_visual_search, multiply, weather_tool, search]"
   ]
  },
  {
   "cell_type": "markdown",
   "metadata": {},
   "source": [
    "## 调用tools"
   ]
  },
  {
   "cell_type": "code",
   "execution_count": 26,
   "metadata": {},
   "outputs": [
    {
     "data": {
      "text/plain": [
       "RunnableBinding(bound=ChatOpenAI(client=<openai.resources.chat.completions.Completions object at 0x10eb2e170>, async_client=<openai.resources.chat.completions.AsyncCompletions object at 0x10eb2fa90>, model_name='gpt-4o', openai_api_key=SecretStr('**********'), openai_api_base='https://api.lingyiwanwu.com/v1', openai_proxy=''), kwargs={'tools': [{'type': 'function', 'function': {'name': 'bing_visual_search', 'description': '利用bing搜索接口搜索给定图片链接对应的图片', 'parameters': {'type': 'object', 'properties': {'imageUrl': {'type': 'string'}}, 'required': ['imageUrl']}}}, {'type': 'function', 'function': {'name': 'multiply', 'description': 'Multiply two numbers.', 'parameters': {'type': 'object', 'properties': {'a': {'type': 'integer'}, 'b': {'type': 'integer'}}, 'required': ['a', 'b']}}}, {'type': 'function', 'function': {'name': 'weather_tool', 'description': 'Describe the weather', 'parameters': {'type': 'object', 'properties': {'weather': {'enum': ['sunny', 'cloudy', 'rainy'], 'type': 'string'}}, 'required': ['weather']}}}, {'type': 'function', 'function': {'name': 'search', 'description': 'Call to surf the web.', 'parameters': {'type': 'object', 'properties': {'query': {'type': 'string'}}, 'required': ['query']}}}]})"
      ]
     },
     "execution_count": 26,
     "metadata": {},
     "output_type": "execute_result"
    }
   ],
   "source": [
    "model_with_tools = model.bind_tools(tools)\n",
    "model_with_tools"
   ]
  },
  {
   "cell_type": "code",
   "execution_count": null,
   "metadata": {},
   "outputs": [],
   "source": [
    "\n",
    "message = HumanMessage(\n",
    "    content=[\n",
    "        {\"type\": \"text\", \"text\": \"图片中的地方在哪个国家\"},\n",
    "        {\"type\": \"image_url\", \"image_url\": {\"url\": image_url}},\n",
    "    ],\n",
    ")\n",
    "response = model_with_tools.invoke([message])\n",
    "print(response.tool_calls)"
   ]
  },
  {
   "cell_type": "code",
   "execution_count": 15,
   "metadata": {},
   "outputs": [
    {
     "data": {
      "text/plain": [
       "AIMessage(content='', additional_kwargs={'tool_calls': [{'id': 'call_vexbnyMLXFmR1QQZFJcPcTlx', 'function': {'arguments': '{\"imageUrl\":\"https://cdn.pixabay.com/photo/2018/05/17/21/39/kelingking-beach-3412359_1280.jpg\"}', 'name': 'bing_visual_search'}, 'type': 'function'}]}, response_metadata={'token_usage': {'completion_tokens': 47, 'prompt_tokens': 1019, 'total_tokens': 1066}, 'model_name': 'gpt-4o-2024-05-13', 'system_fingerprint': None, 'finish_reason': 'tool_calls', 'logprobs': None}, id='run-881131d5-9b87-4106-be4b-feceb1c18da6-0', tool_calls=[{'name': 'bing_visual_search', 'args': {'imageUrl': 'https://cdn.pixabay.com/photo/2018/05/17/21/39/kelingking-beach-3412359_1280.jpg'}, 'id': 'call_vexbnyMLXFmR1QQZFJcPcTlx', 'type': 'tool_call'}], usage_metadata={'input_tokens': 1019, 'output_tokens': 47, 'total_tokens': 1066})"
      ]
     },
     "execution_count": 15,
     "metadata": {},
     "output_type": "execute_result"
    }
   ],
   "source": [
    "response"
   ]
  },
  {
   "cell_type": "code",
   "execution_count": 16,
   "metadata": {},
   "outputs": [
    {
     "name": "stdout",
     "output_type": "stream",
     "text": [
      "[{'id': 'call_vexbnyMLXFmR1QQZFJcPcTlx', 'function': {'arguments': '{\"imageUrl\":\"https://cdn.pixabay.com/photo/2018/05/17/21/39/kelingking-beach-3412359_1280.jpg\"}', 'name': 'bing_visual_search'}, 'type': 'function'}]\n"
     ]
    }
   ],
   "source": [
    "# 解析 tool_calls\n",
    "tool_calls = response.additional_kwargs.get('tool_calls', [])\n",
    "print(tool_calls)\n"
   ]
  },
  {
   "cell_type": "code",
   "execution_count": 21,
   "metadata": {},
   "outputs": [
    {
     "name": "stdout",
     "output_type": "stream",
     "text": [
      "*****************bing visual searching***************\n",
      "*****************searched_result**************** \"巴厘岛-梦开始的地方.在异国他乡遇见你所有的美好.-巴厘岛旅游攻略-游记-去哪儿攻略\"\n",
      "\"【乌鲁瓦图情人崖旅游】乌鲁瓦图情人崖旅游攻略，乌鲁瓦图情人崖旅游景点大全-去哪儿网\"\n",
      "\"巴厘岛-梦开始的地方.在异国他乡遇见你所有的美好.-巴厘岛旅游攻略-游记-去哪儿攻略\"\n",
      "\"Perfect 3-day itinerary in Nusa Penida, Indonesia | Feast of Travel\"\n",
      "\"Indonesia ~ Martina Move\"\n",
      "\"7 Nights in Bali - Rewards4earth.org\"\n",
      "\"1-Day Guide to Nusa Penida Island, Indonesia - Let's Travel it Up\"\n",
      "\"Kelingkling beach from above | Etsy\"\n",
      "\"Bali Travel Guide & Tips | Condé Nast Traveler\"\n",
      "\"Bali Blue Dream Beach Background, Bali, Lembongan, Beach Background ...\"\n",
      "\"Klumbu Indonesia\"\n",
      "\n",
      "\"巴厘岛-梦开始的地方.在异国他乡遇见你所有的美好.-巴厘岛旅游攻略-游记-去哪儿攻略\"\n",
      "\"【乌鲁瓦图情人崖旅游】乌鲁瓦图情人崖旅游攻略，乌鲁瓦图情人崖旅游景点大全-去哪儿网\"\n",
      "\"巴厘岛-梦开始的地方.在异国他乡遇见你所有的美好.-巴厘岛旅游攻略-游记-去哪儿攻略\"\n",
      "\"Perfect 3-day itinerary in Nusa Penida, Indonesia | Feast of Travel\"\n",
      "\"Indonesia ~ Martina Move\"\n",
      "\"7 Nights in Bali - Rewards4earth.org\"\n",
      "\"1-Day Guide to Nusa Penida Island, Indonesia - Let's Travel it Up\"\n",
      "\"Kelingkling beach from above | Etsy\"\n",
      "\"Bali Travel Guide & Tips | Condé Nast Traveler\"\n",
      "\"Bali Blue Dream Beach Background, Bali, Lembongan, Beach Background ...\"\n",
      "\"Klumbu Indonesia\"\n",
      "\n"
     ]
    }
   ],
   "source": [
    "# 从模型的响应中提取 tool_calls\n",
    "tool_calls = response.tool_calls\n",
    "\n",
    "# 迭代并处理每个工具调用\n",
    "for tool_call in tool_calls:\n",
    "    if tool_call['name'] == 'bing_visual_search':\n",
    "        # 提取工具调用的参数\n",
    "        args = tool_call['args']\n",
    "        # image_url = args['imageUrl']\n",
    "        imageUrl = image_url\n",
    "        # 手动调用工具\n",
    "        search_results = bing_visual_search(image_url)\n",
    "        print(search_results)\n"
   ]
  },
  {
   "cell_type": "markdown",
   "metadata": {},
   "source": [
    "# agent"
   ]
  },
  {
   "cell_type": "code",
   "execution_count": 28,
   "metadata": {},
   "outputs": [
    {
     "data": {
      "text/plain": [
       "'这两个数字的和是140,119。'"
      ]
     },
     "execution_count": 28,
     "metadata": {},
     "output_type": "execute_result"
    }
   ],
   "source": [
    "from typing import Annotated, Literal, TypedDict\n",
    "\n",
    "from langchain_core.messages import HumanMessage\n",
    "# from langchain_anthropic import ChatAnthropic\n",
    "from langchain_core.tools import tool\n",
    "from langgraph.checkpoint.memory import MemorySaver\n",
    "from langgraph.graph import END, StateGraph, MessagesState\n",
    "from langgraph.prebuilt import ToolNode\n",
    "\n",
    "\n",
    "# Define the tools for the agent to use\n",
    "@tool\n",
    "def search(query: str):\n",
    "    \"\"\"Call to surf the web.\"\"\"\n",
    "    # This is a placeholder, but don't tell the LLM that...\n",
    "    if \"sf\" in query.lower() or \"san francisco\" in query.lower():\n",
    "        return \"It's 60 degrees and foggy.\"\n",
    "    return \"It's 90 degrees and sunny.\"\n",
    "\n",
    "\n",
    "# tools = [search]\n",
    "\n",
    "tool_node = ToolNode(tools)\n",
    "\n",
    "# model = ChatAnthropic(model=\"claude-3-5-sonnet-20240620\", temperature=0).bind_tools(tools)\n",
    "\n",
    "# Define the function that determines whether to continue or not\n",
    "def should_continue(state: MessagesState) -> Literal[\"tools\", END]:\n",
    "    messages = state['messages']\n",
    "    last_message = messages[-1]\n",
    "    # If the LLM makes a tool call, then we route to the \"tools\" node\n",
    "    if last_message.tool_calls:\n",
    "        return \"tools\"\n",
    "    # Otherwise, we stop (reply to the user)\n",
    "    return END\n",
    "\n",
    "\n",
    "# Define the function that calls the model\n",
    "def call_model(state: MessagesState):\n",
    "    messages = state['messages']\n",
    "    # response = model.invoke(messages)\n",
    "    response = model_with_tools.invoke(messages)\n",
    "    # We return a list, because this will get added to the existing list\n",
    "    return {\"messages\": [response]}\n",
    "\n",
    "\n",
    "# Define a new graph\n",
    "workflow = StateGraph(MessagesState)\n",
    "\n",
    "# Define the two nodes we will cycle between\n",
    "workflow.add_node(\"agent\", call_model)\n",
    "workflow.add_node(\"tools\", tool_node)\n",
    "\n",
    "# Set the entrypoint as `agent`\n",
    "# This means that this node is the first one called\n",
    "workflow.set_entry_point(\"agent\")\n",
    "\n",
    "# We now add a conditional edge\n",
    "workflow.add_conditional_edges(\n",
    "    # First, we define the start node. We use `agent`.\n",
    "    # This means these are the edges taken after the `agent` node is called.\n",
    "    \"agent\",\n",
    "    # Next, we pass in the function that will determine which node is called next.\n",
    "    should_continue,\n",
    ")\n",
    "\n",
    "# We now add a normal edge from `tools` to `agent`.\n",
    "# This means that after `tools` is called, `agent` node is called next.\n",
    "workflow.add_edge(\"tools\", 'agent')\n",
    "\n",
    "# Initialize memory to persist state between graph runs\n",
    "checkpointer = MemorySaver()\n",
    "\n",
    "# Finally, we compile it!\n",
    "# This compiles it into a LangChain Runnable,\n",
    "# meaning you can use it as you would any other runnable.\n",
    "# Note that we're (optionally) passing the memory when compiling the graph\n",
    "app = workflow.compile(checkpointer=checkpointer)\n",
    "\n",
    "# Use the Runnable\n",
    "# final_state = app.invoke(\n",
    "#     {\"messages\": [HumanMessage(content=\"what is the weather in sf\")]},\n",
    "#     config={\"configurable\": {\"thread_id\": 42}}\n",
    "# )\n",
    "\n",
    "final_state = app.invoke(\n",
    "    {\"messages\": [HumanMessage(content=\"计算下面两个数字之和：4654,135465\")]},\n",
    "    config={\"configurable\": {\"thread_id\": 42}}\n",
    ")\n",
    "final_state[\"messages\"][-1].content"
   ]
  },
  {
   "cell_type": "code",
   "execution_count": 29,
   "metadata": {},
   "outputs": [
    {
     "data": {
      "text/plain": [
       "140119"
      ]
     },
     "execution_count": 29,
     "metadata": {},
     "output_type": "execute_result"
    }
   ],
   "source": [
    "135465+4654"
   ]
  },
  {
   "cell_type": "code",
   "execution_count": null,
   "metadata": {},
   "outputs": [],
   "source": []
  }
 ],
 "metadata": {
  "kernelspec": {
   "display_name": "agent",
   "language": "python",
   "name": "python3"
  },
  "language_info": {
   "codemirror_mode": {
    "name": "ipython",
    "version": 3
   },
   "file_extension": ".py",
   "mimetype": "text/x-python",
   "name": "python",
   "nbconvert_exporter": "python",
   "pygments_lexer": "ipython3",
   "version": "3.10.14"
  }
 },
 "nbformat": 4,
 "nbformat_minor": 2
}
